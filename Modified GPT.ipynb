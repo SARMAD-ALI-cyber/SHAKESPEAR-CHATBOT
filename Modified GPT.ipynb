{
  "cells": [
    {
      "cell_type": "code",
      "execution_count": 1,
      "metadata": {
        "id": "1bfIV7Y0qzxc"
      },
      "outputs": [],
      "source": [
        "import torch"
      ]
    },
    {
      "cell_type": "code",
      "execution_count": 3,
      "metadata": {
        "id": "uPc-rTr_qzxg"
      },
      "outputs": [],
      "source": [
        "import pandas as pd\n",
        "import numpy as np\n",
        "import re"
      ]
    },
    {
      "cell_type": "code",
      "execution_count": 4,
      "metadata": {
        "colab": {
          "base_uri": "https://localhost:8080/"
        },
        "id": "u69dOZglqzxi",
        "outputId": "df89e8bf-eedf-490f-a25c-b69d79be7a7f"
      },
      "outputs": [
        {
          "name": "stdout",
          "output_type": "stream",
          "text": [
            "CUDA is available. Using GPU.\n"
          ]
        }
      ],
      "source": [
        "if torch.cuda.is_available():\n",
        "    print(\"CUDA is available. Using GPU.\")\n",
        "    device = torch.device(\"cuda\")\n",
        "else:\n",
        "    print(\"CUDA is not available. Using CPU.\")\n",
        "    device = torch.device(\"cpu\")"
      ]
    },
    {
      "cell_type": "code",
      "execution_count": 4,
      "metadata": {
        "id": "7aGYDHyDqzx9"
      },
      "outputs": [],
      "source": [
        "device = torch.device(\"cpu\")"
      ]
    },
    {
      "cell_type": "code",
      "execution_count": 5,
      "metadata": {
        "id": "SNAX6CiDqzyA"
      },
      "outputs": [
        {
          "name": "stderr",
          "output_type": "stream",
          "text": [
            "c:\\Users\\hasee\\anaconda3\\envs\\new_env\\Lib\\site-packages\\tqdm\\auto.py:21: TqdmWarning: IProgress not found. Please update jupyter and ipywidgets. See https://ipywidgets.readthedocs.io/en/stable/user_install.html\n",
            "  from .autonotebook import tqdm as notebook_tqdm\n"
          ]
        }
      ],
      "source": [
        "from transformers import TextDataset, DataCollatorForLanguageModeling, GPT2Model, AdamW\n",
        "from transformers import GPT2Tokenizer, GPT2LMHeadModel\n",
        "from transformers import Trainer, TrainingArguments\n",
        "import torch.optim as optim"
      ]
    },
    {
      "cell_type": "code",
      "execution_count": 5,
      "metadata": {
        "id": "zoxTkmvZqzyB"
      },
      "outputs": [],
      "source": []
    },
    {
      "cell_type": "code",
      "execution_count": 6,
      "metadata": {
        "id": "ukIWj1WEqzyB"
      },
      "outputs": [],
      "source": [
        "import csv\n",
        "\n",
        "# Assuming your CSV file is named 'your_file.csv'\n",
        "csv_file_path = 'Transformed_Chatbot_Dataset_Shakespearean.csv'\n",
        "\n",
        "# List to store question-answer pairs\n",
        "qa_pairs = []\n",
        "\n",
        "# Read CSV file and extract question-answer pairs\n",
        "with open(csv_file_path, 'r') as csv_file:\n",
        "    csv_reader = csv.DictReader(csv_file)\n",
        "    for row in csv_reader:\n",
        "        # Assuming your CSV columns are named \"Questions\" and \"Answers\"\n",
        "        question = row['Prompt']\n",
        "        answer = row['Shakespearean Reply']\n",
        "        qa_pair = [f\"Q: {question} A: {answer}\"]\n",
        "        qa_pairs.append(qa_pair)"
      ]
    },
    {
      "cell_type": "code",
      "execution_count": 7,
      "metadata": {
        "id": "94WUBnibqzyC"
      },
      "outputs": [],
      "source": [
        "model = GPT2LMHeadModel.from_pretrained(\"gpt2\")\n",
        "tokenizer = GPT2Tokenizer.from_pretrained(\"gpt2\")\n",
        "\n",
        "model.config.pad_token_id = model.config.eos_token_id\n",
        "tokenizer.pad_token = tokenizer.eos_token\n",
        "\n",
        "text = \"\"\n",
        "for question in qa_pairs:\n",
        "    text += f\"{question} {tokenizer.eos_token}\""
      ]
    },
    {
      "cell_type": "code",
      "execution_count": 21,
      "metadata": {
        "id": "iwG60PLrqzyC"
      },
      "outputs": [],
      "source": [
        "#input_ids = tokenizer(text, padding=True, truncation=True, return_tensors=\"pt\")['input_ids']\n",
        "#input_ids = tokenizer.encode(text,, add_special_tokens=True, return_tensors=\"pt\")\n",
        "input_ids = tokenizer.encode(text,padding=True, truncation=True, add_special_tokens=True, return_tensors=\"pt\")"
      ]
    },
    {
      "cell_type": "code",
      "execution_count": 22,
      "metadata": {
        "id": "rrGTK7KgqzyD"
      },
      "outputs": [],
      "source": [
        "optimizer = torch.optim.AdamW(model.parameters(), lr=0.0005)\n",
        "scheduler = torch.optim.lr_scheduler.StepLR(optimizer, step_size=1, gamma=0.9)"
      ]
    },
    {
      "cell_type": "code",
      "execution_count": 37,
      "metadata": {
        "colab": {
          "base_uri": "https://localhost:8080/"
        },
        "id": "_Ph7elMzqzyE",
        "outputId": "975fb2e7-b284-49f5-ceee-5be6eae2e26d"
      },
      "outputs": [
        {
          "data": {
            "text/plain": [
              "['Q: good luck with school. A: thank thou very much.']"
            ]
          },
          "execution_count": 37,
          "metadata": {},
          "output_type": "execute_result"
        }
      ],
      "source": [
        "qa_pairs[10]"
      ]
    },
    {
      "cell_type": "code",
      "execution_count": 24,
      "metadata": {
        "colab": {
          "base_uri": "https://localhost:8080/"
        },
        "id": "RDTjhw_7qzyE",
        "outputId": "6b0b277f-fbe1-4e4e-d2f2-9688435b8877"
      },
      "outputs": [
        {
          "name": "stdout",
          "output_type": "stream",
          "text": [
            "Epoch 0, Loss 0.21510645747184753\n",
            "Epoch 1, Loss 2.108739137649536\n",
            "Epoch 2, Loss 1.0774857997894287\n",
            "Epoch 3, Loss 0.9498881697654724\n",
            "Epoch 4, Loss 0.7105492949485779\n",
            "Epoch 5, Loss 0.541527271270752\n",
            "Epoch 6, Loss 0.4650467038154602\n",
            "Epoch 7, Loss 0.42432212829589844\n",
            "Epoch 8, Loss 0.36263027787208557\n",
            "Epoch 9, Loss 0.3202010691165924\n",
            "Epoch 10, Loss 0.29578471183776855\n",
            "Epoch 11, Loss 0.26422759890556335\n",
            "Epoch 12, Loss 0.23515275120735168\n",
            "Epoch 13, Loss 0.21736979484558105\n",
            "Epoch 14, Loss 0.2072908580303192\n",
            "Epoch 15, Loss 0.1820899397134781\n",
            "Epoch 16, Loss 0.1717212200164795\n",
            "Epoch 17, Loss 0.15771843492984772\n",
            "Epoch 18, Loss 0.16696590185165405\n",
            "Epoch 19, Loss 0.14041493833065033\n",
            "Epoch 20, Loss 0.12990158796310425\n",
            "Epoch 21, Loss 0.12798650562763214\n",
            "Epoch 22, Loss 0.12152053415775299\n",
            "Epoch 23, Loss 0.12383782863616943\n",
            "Epoch 24, Loss 0.11000888794660568\n",
            "Epoch 25, Loss 0.11251053959131241\n",
            "Epoch 26, Loss 0.10238364338874817\n",
            "Epoch 27, Loss 0.0991755872964859\n",
            "Epoch 28, Loss 0.10326429456472397\n",
            "Epoch 29, Loss 0.09696035087108612\n",
            "Epoch 30, Loss 0.09823330491781235\n",
            "Epoch 31, Loss 0.09387543797492981\n",
            "Epoch 32, Loss 0.08047102391719818\n",
            "Epoch 33, Loss 0.08569154888391495\n",
            "Epoch 34, Loss 0.09138080477714539\n",
            "Epoch 35, Loss 0.10551010817289352\n",
            "Epoch 36, Loss 0.09211727976799011\n",
            "Epoch 37, Loss 0.08262613415718079\n",
            "Epoch 38, Loss 0.0843091607093811\n",
            "Epoch 39, Loss 0.07487115263938904\n",
            "Epoch 40, Loss 0.08757875859737396\n",
            "Epoch 41, Loss 0.07850363105535507\n",
            "Epoch 42, Loss 0.07982062548398972\n",
            "Epoch 43, Loss 0.07689693570137024\n",
            "Epoch 44, Loss 0.07648782432079315\n",
            "Epoch 45, Loss 0.08446791023015976\n",
            "Epoch 46, Loss 0.07950286567211151\n",
            "Epoch 47, Loss 0.0796736553311348\n",
            "Epoch 48, Loss 0.09477289766073227\n",
            "Epoch 49, Loss 0.07534147053956985\n",
            "Epoch 50, Loss 0.07800325006246567\n"
          ]
        }
      ],
      "source": [
        "model.to(device)\n",
        "model.train()\n",
        "\n",
        "for epoch in range(51):\n",
        "    optimizer.zero_grad()\n",
        "    loss = model(input_ids.to(device), labels=input_ids.to(device))[0]\n",
        "    loss.backward()\n",
        "    optimizer.step()\n",
        "    scheduler.step()\n",
        "    print(f\"Epoch {epoch}, Loss {loss.item()}\")"
      ]
    },
    {
      "cell_type": "code",
      "execution_count": 25,
      "metadata": {
        "id": "M6yKSIk4qzyG"
      },
      "outputs": [],
      "source": [
        "model.eval()\n",
        "def generate_response(question):\n",
        "    # Encode the question using the tokenizer\n",
        "    input_ids = tokenizer.encode(question + \"<|question|>\", add_special_tokens=False, padding=True, truncation=True, return_tensors=\"pt\").to(device)\n",
        "    # Generate the answer using the model\n",
        "    attention_mask = torch.ones_like(input_ids)\n",
        "    sample_output = model.generate(input_ids, do_sample=True, max_length=100, top_k=20, top_p=1.0, attention_mask=attention_mask)\n",
        "\n",
        "    # Decode the generated answer using the tokenizer\n",
        "    answer = tokenizer.decode(sample_output[0], skip_special_tokens=True)\n",
        "\n",
        "    # Split the generated answer into individual sentences\n",
        "    sentences = answer.split(\". \")\n",
        "\n",
        "    # Look for the sentence that contains the answer to the question\n",
        "    for sentence in sentences:\n",
        "        if question in sentence:\n",
        "            return sentence\n",
        "\n",
        "    # If no sentence contains the answer, return the full generated answer\n",
        "    return answer"
      ]
    },
    {
      "cell_type": "code",
      "execution_count": 39,
      "metadata": {
        "colab": {
          "base_uri": "https://localhost:8080/"
        },
        "id": "Zj6X3pONqzyG",
        "outputId": "1f404fb8-fca3-4b33-c33a-7652f43cda1d"
      },
      "outputs": [
        {
          "name": "stderr",
          "output_type": "stream",
          "text": [
            "Setting `pad_token_id` to `eos_token_id`:50256 for open-end generation.\n"
          ]
        },
        {
          "name": "stdout",
          "output_type": "stream",
          "text": [
            "what's the weather going to be like?\n",
            " what's the weather going to be like?<|question|> forsooth, i'm fine\n"
          ]
        }
      ],
      "source": [
        "question = \"what's the weather going to be like?\"\n",
        "response = generate_response(question)\n",
        "print(f\"{question}\\n {response}\")"
      ]
    },
    {
      "cell_type": "code",
      "execution_count": null,
      "metadata": {
        "id": "Q1dUuuMrt9ty"
      },
      "outputs": [],
      "source": []
    }
  ],
  "metadata": {
    "accelerator": "GPU",
    "colab": {
      "gpuType": "T4",
      "provenance": []
    },
    "kernelspec": {
      "display_name": "Python 3",
      "name": "python3"
    },
    "language_info": {
      "codemirror_mode": {
        "name": "ipython",
        "version": 3
      },
      "file_extension": ".py",
      "mimetype": "text/x-python",
      "name": "python",
      "nbconvert_exporter": "python",
      "pygments_lexer": "ipython3",
      "version": "3.11.7"
    }
  },
  "nbformat": 4,
  "nbformat_minor": 0
}
